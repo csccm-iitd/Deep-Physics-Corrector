{
 "cells": [
  {
   "cell_type": "code",
   "execution_count": 3,
   "id": "ec2bda41",
   "metadata": {
    "scrolled": true
   },
   "outputs": [],
   "source": [
    "#Import Libraries\n",
    "import numpy as np\n",
    "import matplotlib.pyplot as plt\n",
    "import torch\n",
    "import torch.nn as nn\n",
    "from torch.utils.data import TensorDataset, DataLoader\n",
    "import torchvision.transforms as transforms\n",
    "from sklearn.metrics import mean_absolute_error as mae\n",
    "mse = nn.MSELoss()\n",
    "import torch.optim.lr_scheduler as lr_scheduler\n",
    "device=device = torch.device(\"cuda\" if torch.cuda.is_available() else \"cpu\")\n",
    "import seaborn as sns\n",
    "from scipy.stats import gaussian_kde\n",
    "from mpl_toolkits.axes_grid1.inset_locator import (inset_axes, InsetPosition, mark_inset)\n",
    "from scipy.integrate import solve_ivp\n",
    "import math"
   ]
  },
  {
   "cell_type": "markdown",
   "id": "16fc934d",
   "metadata": {},
   "source": [
    "Euler Maruyama SDE Solver for Data Generation"
   ]
  },
  {
   "cell_type": "code",
   "execution_count": 4,
   "id": "7b7abddd",
   "metadata": {},
   "outputs": [],
   "source": [
    "def Euler_Maruyama(param,dt,n):\n",
    "    [p1,p2] = param\n",
    "    sol = np.zeros(n)\n",
    "    sol[0] = 1\n",
    "    for i in range(n-1):\n",
    "        sol[i+1] = sol[i] + (p1-sol[i])*dt + p2*(0.2*sol[i]+1)*np.random.randn(1)*np.sqrt(dt)\n",
    "    return sol"
   ]
  },
  {
   "cell_type": "markdown",
   "id": "1ca973a4",
   "metadata": {},
   "source": [
    "Pure Physics(Incomplete) model using Euler Maruyama solver"
   ]
  },
  {
   "cell_type": "code",
   "execution_count": 5,
   "id": "da74c4c5",
   "metadata": {},
   "outputs": [],
   "source": [
    "def Physics_pure(param,batch_size,dt,n):\n",
    "    zp = param\n",
    "    s_dash = torch.zeros((batch_size,n),dtype = float).to(device) \n",
    "    s_dash[:,0] = torch.ones((batch_size), dtype = float).to(device)\n",
    "    dT = dt * torch.ones(batch_size).to(device)\n",
    "    one = torch.ones((batch_size), dtype = float).to(device)\n",
    "    dW = torch.sqrt(dT)*torch.randn(batch_size).to(device)\n",
    "    for i in range(n-1):\n",
    "        #s_dash[:,i+1] = s_dash[:,i] + dT*(zp[:,0]) + zp[:,1] *(0.2*s_dash[:,i]+1)* dW\n",
    "        s_dash[:,i+1] = s_dash[:,i] + dT+ zp[:,1]*(0.2*s_dash[:,i]+one) * dW \n",
    "    return s_dash "
   ]
  },
  {
   "cell_type": "markdown",
   "id": "c4d0b973",
   "metadata": {},
   "source": [
    "Data Generation\n"
   ]
  },
  {
   "cell_type": "code",
   "execution_count": 6,
   "id": "1143ad05",
   "metadata": {},
   "outputs": [
    {
     "name": "stdout",
     "output_type": "stream",
     "text": [
      "1.6877334484619761\n",
      "(3500, 100)\n",
      "prm (3500, 2)\n"
     ]
    },
    {
     "data": {
      "image/png": "[encoded data removed]",
      "text/plain": [
       "<Figure size 432x288 with 1 Axes>"
      ]
     },
     "metadata": {
      "needs_background": "light"
     },
     "output_type": "display_data"
    }
   ],
   "source": [
    "#Uniform random initialization for 3500 data points\n",
    "x1=np.random.uniform(0.9,2,3500)\n",
    "x2=np.random.uniform(0.1,1,3500)\n",
    "print(x1[2])\n",
    "\n",
    "#Standard Deviation for x1 and x2\n",
    "std_x1 = np.std(x1)\n",
    "std_x2 = np.std(x2)\n",
    "\n",
    "\n",
    "#Time discretization domain\n",
    "t = np.linspace(0,0.1,100)\n",
    "dt = .001\n",
    "\n",
    "#Initialising output matrix\n",
    "Y=np.zeros([3500,100])\n",
    "\n",
    "#Initialising parameters matrix\n",
    "prm =np.zeros([3500,2]) \n",
    "\n",
    "for i in range(3500):\n",
    "    #z=np.random.randn(100)\n",
    "    if i%50 == 0:\n",
    "        p1 = x1[i]\n",
    "        p2 = x2[i]\n",
    "    param = [p1,p2]\n",
    "    Y[i,:]= Euler_Maruyama(param,dt,100)\n",
    "    prm[i] = param\n",
    "print(np.shape(Y))\n",
    "print(\"prm\",prm.shape)\n",
    "\n",
    "#plot output\n",
    "plt.figure(1)\n",
    "plt.plot(t, Y[10,:], label='y')\n",
    "txt = \"x1=\"+str(prm[10,0])[0:7]+\" x2=\" + str(prm[10,1])[0:7]\n",
    "plt.title(label=txt)\n",
    "plt.xlabel('Time (s)')\n",
    "plt.legend()\n",
    "plt.grid(True)"
   ]
  },
  {
   "cell_type": "code",
   "execution_count": 7,
   "id": "1bd8f06e",
   "metadata": {},
   "outputs": [
    {
     "name": "stdout",
     "output_type": "stream",
     "text": [
      "[1.99554633 0.95582114]\n"
     ]
    },
    {
     "data": {
      "text/plain": [
       "<AxesSubplot:ylabel='Density'>"
      ]
     },
     "execution_count": 7,
     "metadata": {},
     "output_type": "execute_result"
    },
    {
     "data": {
      "image/png": "[encoded data removed]",
      "text/plain": [
       "<Figure size 432x288 with 1 Axes>"
      ]
     },
     "metadata": {
      "needs_background": "light"
     },
     "output_type": "display_data"
    }
   ],
   "source": [
    "#Pdf plot of generated data at a particular time step\n",
    "Y_at_t = Y[:,33]\n",
    "print(prm[0])\n",
    "sns.kdeplot(Y_at_t)"
   ]
  },
  {
   "cell_type": "code",
   "execution_count": 8,
   "id": "755c7572",
   "metadata": {},
   "outputs": [],
   "source": [
    "#Preparing training dataset and dataloader\n",
    "train_data = torch.from_numpy(Y[0:2000,:]).to(device)\n",
    "train_prm  = torch.from_numpy(prm[0:2000,:]).to(device)\n",
    "\n",
    "Train_data = TensorDataset(train_data,train_prm)\n",
    "Train_dl = DataLoader(Train_data, batch_size=50, shuffle=False)# We didn’t shuffle the data"
   ]
  },
  {
   "cell_type": "code",
   "execution_count": 9,
   "id": "daf28c88",
   "metadata": {},
   "outputs": [],
   "source": [
    "class DNN(nn.Module):\n",
    "    def __init__(self):\n",
    "        super(DNN, self).__init__()\n",
    "        # function for stochastic term\n",
    "        self.fA1 = nn.Sequential(nn.Linear(13, 64),\n",
    "                                 nn.ELU(),\n",
    "                                 nn.Linear(64 ,256),\n",
    "                                 nn.ELU(),\n",
    "                                 nn.Linear(256,512),\n",
    "                                 nn.ELU(),\n",
    "                                 nn.Linear(512,256),\n",
    "                                 nn.ELU(),\n",
    "                                 nn.Linear(256, 64),\n",
    "                                 nn.ELU(),\n",
    "                                 nn.Linear(64,1))\n",
    "\n",
    "\n",
    "    def forward(self, batch_size, params,n):\n",
    "        zp = params\n",
    "        #Initializing the solution matrix\n",
    "        s_dash = torch.zeros(batch_size,n,dtype = float).to(device) \n",
    "        \n",
    "        #As the initial condition s_dash(@ t=0) = 1, assigning first column of s_dash as 1\n",
    "        s_dash[:,0] = torch.ones(batch_size,dtype = float).to(device)\n",
    "        \n",
    "        #Loop for time marching\n",
    "        for i in range(n-1):\n",
    "            s = torch.reshape(s_dash[:,i],(batch_size,1))\n",
    "        \n",
    "            # Taking sample for Z(random variable) from standard gaussian distribution\n",
    "            z_A1 = torch.randn(batch_size,10).to(device)\n",
    "            \n",
    "            #Taking out 1st column out from the parameters i.e x1 and calling it z_p0\n",
    "            z_p0 = torch.reshape(zp[:,0],(batch_size,1))\n",
    "            \n",
    "            #Taking out 2nd column out from the parameters i.e x1 and calling it z_p1\n",
    "            z_p1 = torch.reshape(zp[:,1],(batch_size,1))\n",
    "            \n",
    "            #Input to the Neural network that will fill in for the unknown part\n",
    "            input_fA1 = torch.cat((z_A1,z_p0,z_p1,s),1).to(device)\n",
    "            \n",
    "            # Outputs from the neural networks\n",
    "            fA1_loc = self.fA1(input_fA1)\n",
    "            \n",
    "            #Resize\n",
    "            z_p1_ = torch.squeeze(z_p1)\n",
    "            z_p0_ = torch.squeeze(z_p0)\n",
    "            fA1_loc_ = torch.squeeze(fA1_loc)\n",
    "            \n",
    "            # Time as tensor  of size = batch size\n",
    "            dT = 0.001 * torch.ones(batch_size).to(device)\n",
    "            \n",
    "            # White noise as tensor of size = batch size\n",
    "            dW = torch.randn(batch_size).to(device)\n",
    "            \n",
    "            # Using explicit Euler Maruyama to compute the output at (i+1)th step given the ith step output\n",
    "            s_dash[:,i+1] = s_dash[:,i] + dT*fA1_loc_ + z_p1_*(0.2*s_dash[:,i]+1) * dW * torch.sqrt(dT)\n",
    "\n",
    "        s_hat = s_dash\n",
    "        \n",
    "        return s_hat, zp"
   ]
  },
  {
   "cell_type": "markdown",
   "id": "66b2680e",
   "metadata": {},
   "source": [
    "Neural Network for purely data driven solver"
   ]
  },
  {
   "cell_type": "code",
   "execution_count": 10,
   "id": "27b6d087",
   "metadata": {},
   "outputs": [],
   "source": [
    "class Datadriven(nn.Module):\n",
    "    def __init__(self):\n",
    "        super(Datadriven,self).__init__()\n",
    "        self.network1 = nn.Sequential(nn.Linear(13, 64),\n",
    "                                 nn.ELU(),\n",
    "                                 nn.Linear(64 ,256),\n",
    "                                 nn.ELU(),\n",
    "                                 nn.Linear(256,512),\n",
    "                                 nn.ELU(),\n",
    "                                 nn.Linear(512,256),\n",
    "                                 nn.ELU(),\n",
    "                                 nn.Linear(256, 64),\n",
    "                                 nn.ELU(),\n",
    "                                 nn.Linear(64,1))\n",
    "    \n",
    "    def forward(self, batch_size, params,time):\n",
    "        Z = torch.randn(batch_size,10).to(device)\n",
    "        network_input = torch.cat((params,Z,time),1).to(device)\n",
    "        output  = self.network1(network_input)\n",
    "        out = torch.squeeze(output)\n",
    "        return out"
   ]
  },
  {
   "cell_type": "markdown",
   "id": "190689b0",
   "metadata": {},
   "source": [
    "CMMD Loss Function"
   ]
  },
  {
   "cell_type": "code",
   "execution_count": 12,
   "id": "71c67896",
   "metadata": {},
   "outputs": [],
   "source": [
    "def gram_matrix(x, y, gamma1, pi1):\n",
    "    sq_dist = torch.sum((torch.unsqueeze(x, 1)-torch.unsqueeze(y, 0))**2,2)      \n",
    "    kernel = (pi1*torch.exp(-gamma1*sq_dist))\n",
    "    return  kernel"
   ]
  },
  {
   "cell_type": "code",
   "execution_count": 13,
   "id": "482c7e07",
   "metadata": {},
   "outputs": [],
   "source": [
    "def multidot(A,B,C,D):\n",
    "\n",
    "  return torch.tensordot(A,torch.tensordot(B,torch.tensordot(C,D,dims=1),dims=1),dims=1)"
   ]
  },
  {
   "cell_type": "code",
   "execution_count": 14,
   "id": "2e317d69",
   "metadata": {},
   "outputs": [],
   "source": [
    "def CMMD_loss(x_comp, x_hat, params, zp):\n",
    "        gamma1 = torch.sigmoid(lambda1)\n",
    "        #Mixture Coefficients   \n",
    "        pi1 = torch.exp(beta1).to(device)\n",
    "        #Gram Matrices\n",
    "        k_d = gram_matrix(params, params, gamma1, pi1)\n",
    "        #print('k_d',k_d.shape)\n",
    "        k_s = gram_matrix(zp, zp, gamma1, pi1)\n",
    "        #print('k_s',k_s)\n",
    "        l_d = gram_matrix(x_comp, x_comp, gamma1, pi1)\n",
    "        #print('l_d',l_d)\n",
    "        l_s = gram_matrix(x_hat, x_hat, gamma1, pi1)\n",
    "        #print('l_s',l_s)\n",
    "        k_sd = gram_matrix(params,zp, gamma1, pi1)\n",
    "        #print('k_sd',k_sd)\n",
    "        l_ds = gram_matrix(x_comp, x_hat, gamma1, pi1)\n",
    "        #print('l_ds',l_ds)\n",
    "        lam = 2.0 #hyperparameteR\n",
    "        row, col = k_d.shape\n",
    "        k_d_tilda = k_d + (lam*torch.eye(row,col,device=\"cuda\"))\n",
    "        #print( 'k_d_tild',k_d_tilda)\n",
    "        k_s_tilda = k_s + (lam*torch.eye(row,col,device=\"cuda\"))\n",
    "        #print(' k_s_tilda',k_s_tilda)\n",
    "        k_sd_tilda = k_sd + (lam*torch.eye(row,col,device=\"cuda\"))\n",
    "        #print('k_sd_tilda',k_sd_tilda)\n",
    "        loss = torch.sqrt(torch.trace(multidot(k_d,torch.inverse(k_d_tilda),l_d,torch.inverse(k_d_tilda))) + torch.trace(multidot(k_s,torch.inverse(k_s_tilda),l_s,torch.inverse(k_s_tilda))) - 2*torch.trace(multidot(k_sd,torch.inverse(k_d_tilda),l_ds,torch.inverse(k_s_tilda))))\n",
    "        #print('shape',loss.shape)\n",
    "        return loss "
   ]
  },
  {
   "cell_type": "markdown",
   "id": "59012e36",
   "metadata": {},
   "source": [
    "Training function for the proposed model"
   ]
  },
  {
   "cell_type": "code",
   "execution_count": 16,
   "id": "4e253622",
   "metadata": {},
   "outputs": [],
   "source": [
    "def train_CMMD(model_dpc, epochs):\n",
    "    opt = torch.optim.Adam(model_dpc.parameters(),lr = .0001)\n",
    "    train_loss_epochs = torch.empty((epochs)).to(device)\n",
    "    scheduler = lr_scheduler.StepLR(opt, step_size = 50, gamma=0.95, verbose = True)\n",
    "    for epoch in range(epochs):\n",
    "        print(epoch)\n",
    "        a=1\n",
    "        b=1\n",
    "        c=10\n",
    "        i=0\n",
    "        train_cum_loss = 0\n",
    "        for batch,params in Train_dl:\n",
    "           s = batch\n",
    "           params = params[:,0:2]\n",
    "           #print(\"params\",params.shape)\n",
    "           batch_size = s.shape[0]\n",
    "           x1 = params[:,0] # since params is taking new set of values every iterations \n",
    "           #print(\"omega\",omega.shape)\n",
    "           x2 =  params[:,1]\n",
    "           opt.zero_grad()\n",
    "           s_hat,zp = model_dpc(batch_size=batch_size, params = params, n=100)\n",
    "           i=+1\n",
    "           loss_CMMD = CMMD_loss(s, s_hat, params, params)\n",
    "           loss_rec = ((s - s_hat)**2).sum()\n",
    "           loss = a*loss_CMMD \n",
    "           train_cum_loss+=loss\n",
    "           loss.backward()\n",
    "           opt.step()\n",
    "        scheduler.step()\n",
    "        train_loss_epochs[epoch] = train_cum_loss/2000 ########bATCH_SIZE\n",
    "        print(\"loss_CMMD\",loss_CMMD)\n",
    "        print(\"loss_rec\",loss_rec)\n",
    "    return model_dpc, train_loss_epochs,opt"
   ]
  },
  {
   "cell_type": "markdown",
   "id": "2b9cbad8",
   "metadata": {},
   "source": [
    "Test function for the proposed DPC model"
   ]
  },
  {
   "cell_type": "code",
   "execution_count": 17,
   "id": "5d44e724",
   "metadata": {},
   "outputs": [],
   "source": [
    "def test(model_dpc,n):\n",
    "    x1=np.random.uniform(0.9,2,1500)\n",
    "    x2=np.random.uniform(0.1,1,1500)\n",
    "    t = np.linspace(0,0.1,100)\n",
    "    dt = t[2]-t[1]\n",
    "    S=np.zeros([1500,n])\n",
    "    prm_test =np.zeros([1500,2]) \n",
    "    for i in range(1500):\n",
    "        q1 = x1[i]\n",
    "        q2 = x2[i]\n",
    "        param = [q1,q2]\n",
    "        S[i,:]= Euler_Maruyama(param,dt,n)\n",
    "        prm_test[i] = param\n",
    "    print(S.shape)\n",
    "    print(prm_test.shape)\n",
    "    test_data1 = torch.from_numpy(S).to(device) \n",
    "    test_prm1 = torch.from_numpy(prm_test).to(device)\n",
    "    Test_data1 = TensorDataset(test_data1,test_prm1)\n",
    "    Test_dl_1 = DataLoader(Test_data1, batch_size=50, shuffle=False)\n",
    "    with torch.no_grad():  \n",
    "        s_full =  torch.empty(1500,n)\n",
    "        s_hat_full =  torch.empty(1500,n)\n",
    "        parameters =  torch.empty(1500,2) \n",
    "        i=0\n",
    "        for batch,p in Test_dl_1:\n",
    "            s = batch\n",
    "            #print(\"s_shape\",s.shape)\n",
    "            batch_size = s.shape[0]\n",
    "            parameters[i*batch_size:(i+1)*batch_size,:] = p\n",
    "            #print(batch_size)\n",
    "            s_full[i*batch_size:(i+1)*batch_size,:] = s\n",
    "            s_hat,zp = model_dpc(batch_size=batch_size, params = p, n=n)\n",
    "            s_hat_full[i*batch_size:(i+1)*batch_size,:] = s_hat\n",
    "            i+=1\n",
    "        x_hat = s_hat_full.cpu()\n",
    "        X_hat = x_hat.detach().numpy()\n",
    "        x = s_full.cpu()\n",
    "        X= x.detach().numpy()\n",
    "        er = mae = np.absolute(np.subtract(X_hat, X)).mean() \n",
    "\n",
    "    return er,parameters,X_hat,X"
   ]
  },
  {
   "cell_type": "markdown",
   "id": "04a86c14",
   "metadata": {},
   "source": [
    "Test function for the all the models combined i.e the DPC model, pure physics and pure data driven mode"
   ]
  },
  {
   "cell_type": "code",
   "execution_count": 19,
   "id": "3440499b",
   "metadata": {},
   "outputs": [],
   "source": [
    "def test1(model_dpc, model, n):\n",
    "    x1=np.random.uniform(0.9,2,1500)\n",
    "    x2=np.random.uniform(0.1,1,1500)\n",
    "    t = np.linspace(0,0.1,100)\n",
    "    dt = t[2]-t[1]\n",
    "    S=np.zeros([1500,n])\n",
    "    prm_test =np.zeros([1500,2]) \n",
    "    for i in range(1500):\n",
    "        q1 = x1[i]\n",
    "        q2 = x2[i]\n",
    "        param = [q1,q2]\n",
    "        S[i,:]= Euler_Maruyama(param,dt,n)\n",
    "        prm_test[i] = param\n",
    "    print(S.shape)\n",
    "    print(prm_test.shape)\n",
    "    test_data1 = torch.from_numpy(S).to(device) \n",
    "    test_prm1 = torch.from_numpy(prm_test).to(device)\n",
    "    Test_data1 = TensorDataset(test_data1,test_prm1)\n",
    "    Test_dl_1 = DataLoader(Test_data1, batch_size=1500, shuffle=False)\n",
    "    with torch.no_grad():  \n",
    "        s_full =  torch.empty(1500,n).to(device)\n",
    "        s_hat_full =  torch.empty(1500,n).to(device)\n",
    "        s_hat_full_data = torch.empty(1500,n).to(device)\n",
    "        #s_hat_full_physics = torch.empty(1500,n).to(device)\n",
    "        parameters =  torch.empty(1500,2).to(device) \n",
    "        i=0\n",
    "    for batch,p in Test_dl_1:\n",
    "        s = batch\n",
    "        #print(\"s_shape\",s.shape)\n",
    "        batch_size = s.shape[0]\n",
    "        parameters[i*batch_size:(i+1)*batch_size,:] = p\n",
    "        #print(batch_size)\n",
    "        s_full[i*batch_size:(i+1)*batch_size,:] = s\n",
    "        s_hat,zp = model_dpc(batch_size=batch_size, params = p, n=n)\n",
    "        for t in range(n):\n",
    "            time = t*dt*torch.ones((batch_size,1), dtype = float).to(device)\n",
    "            s_hat_full_data[:,t] = model(batch_size=batch_size, params = p, time = time)   \n",
    "        s_hat_full[i*batch_size:(i+1)*batch_size,:] = s_hat\n",
    "        s_hat_full_physics = Physics_pure(p,batch_size, dt, n) \n",
    "        i+=1\n",
    "    x_hat = s_hat_full.cpu()\n",
    "    X_hat = x_hat.detach().numpy()\n",
    "    x_hat_data = s_hat_full_data.cpu()\n",
    "    X_hat_data = x_hat_data.detach().numpy()\n",
    "    x_hat_physics = s_hat_full_physics.cpu()\n",
    "    X_hat_physics = x_hat_physics.detach().numpy()\n",
    "    x = s_full.cpu()\n",
    "    X= x.detach().numpy()\n",
    "    er = mae = np.absolute(np.subtract(X_hat, X)).mean() \n",
    "\n",
    "    return er, parameters, X_hat, X_hat_data, X_hat_physics, X"
   ]
  },
  {
   "cell_type": "markdown",
   "id": "63723248",
   "metadata": {},
   "source": [
    "Main: Training of the proposed model till convergence is reached "
   ]
  },
  {
   "cell_type": "code",
   "execution_count": 15,
   "id": "10c4dcdc",
   "metadata": {},
   "outputs": [
    {
     "name": "stdout",
     "output_type": "stream",
     "text": [
      "Adjusting learning rate of group 0 to 1.0000e-04.\n",
      "0\n"
     ]
    },
    {
     "ename": "KeyboardInterrupt",
     "evalue": "",
     "output_type": "error",
     "traceback": [
      "\u001b[1;31m---------------------------------------------------------------------------\u001b[0m",
      "\u001b[1;31mKeyboardInterrupt\u001b[0m                         Traceback (most recent call last)",
      "\u001b[1;32m~\\AppData\\Local\\Temp/ipykernel_6032/3346915598.py\u001b[0m in \u001b[0;36m<module>\u001b[1;34m\u001b[0m\n\u001b[0;32m     23\u001b[0m \u001b[0mautoencoder\u001b[0m\u001b[1;33m.\u001b[0m\u001b[0mregister_parameter\u001b[0m\u001b[1;33m(\u001b[0m\u001b[1;34m'beta1'\u001b[0m\u001b[1;33m,\u001b[0m\u001b[0mbeta1\u001b[0m\u001b[1;33m)\u001b[0m\u001b[1;33m\u001b[0m\u001b[1;33m\u001b[0m\u001b[0m\n\u001b[0;32m     24\u001b[0m \u001b[1;33m\u001b[0m\u001b[0m\n\u001b[1;32m---> 25\u001b[1;33m \u001b[0mautoencoder\u001b[0m\u001b[1;33m,\u001b[0m\u001b[0mtrain_loss_epochs\u001b[0m\u001b[1;33m,\u001b[0m\u001b[0mopt\u001b[0m\u001b[1;33m=\u001b[0m \u001b[0mtrain_CMMD\u001b[0m\u001b[1;33m(\u001b[0m\u001b[0mautoencoder\u001b[0m\u001b[1;33m.\u001b[0m\u001b[0mdouble\u001b[0m\u001b[1;33m(\u001b[0m\u001b[1;33m)\u001b[0m\u001b[1;33m,\u001b[0m\u001b[0mepochs\u001b[0m\u001b[1;33m)\u001b[0m\u001b[1;33m\u001b[0m\u001b[1;33m\u001b[0m\u001b[0m\n\u001b[0m\u001b[0;32m     26\u001b[0m \u001b[0mepochs_array\u001b[0m \u001b[1;33m=\u001b[0m \u001b[0mnp\u001b[0m\u001b[1;33m.\u001b[0m\u001b[0mlinspace\u001b[0m\u001b[1;33m(\u001b[0m\u001b[1;36m0\u001b[0m\u001b[1;33m,\u001b[0m\u001b[0mepochs\u001b[0m\u001b[1;33m,\u001b[0m\u001b[0mepochs\u001b[0m\u001b[1;33m)\u001b[0m\u001b[1;33m\u001b[0m\u001b[1;33m\u001b[0m\u001b[0m\n\u001b[0;32m     27\u001b[0m \u001b[0mtrain_loss_epochs\u001b[0m\u001b[1;33m=\u001b[0m \u001b[0mtrain_loss_epochs\u001b[0m\u001b[1;33m.\u001b[0m\u001b[0mcpu\u001b[0m\u001b[1;33m(\u001b[0m\u001b[1;33m)\u001b[0m\u001b[1;33m\u001b[0m\u001b[1;33m\u001b[0m\u001b[0m\n",
      "\u001b[1;32m~\\AppData\\Local\\Temp/ipykernel_6032/2414108242.py\u001b[0m in \u001b[0;36mtrain_CMMD\u001b[1;34m(autoencoder, epochs)\u001b[0m\n\u001b[0;32m     19\u001b[0m            \u001b[0mx2\u001b[0m \u001b[1;33m=\u001b[0m  \u001b[0mparams\u001b[0m\u001b[1;33m[\u001b[0m\u001b[1;33m:\u001b[0m\u001b[1;33m,\u001b[0m\u001b[1;36m1\u001b[0m\u001b[1;33m]\u001b[0m\u001b[1;33m\u001b[0m\u001b[1;33m\u001b[0m\u001b[0m\n\u001b[0;32m     20\u001b[0m            \u001b[0mopt\u001b[0m\u001b[1;33m.\u001b[0m\u001b[0mzero_grad\u001b[0m\u001b[1;33m(\u001b[0m\u001b[1;33m)\u001b[0m\u001b[1;33m\u001b[0m\u001b[1;33m\u001b[0m\u001b[0m\n\u001b[1;32m---> 21\u001b[1;33m            \u001b[0ms_hat\u001b[0m\u001b[1;33m,\u001b[0m\u001b[0mzp\u001b[0m \u001b[1;33m=\u001b[0m \u001b[0mautoencoder\u001b[0m\u001b[1;33m(\u001b[0m\u001b[0mbatch_size\u001b[0m\u001b[1;33m=\u001b[0m\u001b[0mbatch_size\u001b[0m\u001b[1;33m,\u001b[0m \u001b[0mparams\u001b[0m \u001b[1;33m=\u001b[0m \u001b[0mparams\u001b[0m\u001b[1;33m,\u001b[0m \u001b[0mn\u001b[0m\u001b[1;33m=\u001b[0m\u001b[1;36m100\u001b[0m\u001b[1;33m)\u001b[0m\u001b[1;33m\u001b[0m\u001b[1;33m\u001b[0m\u001b[0m\n\u001b[0m\u001b[0;32m     22\u001b[0m            \u001b[0mi\u001b[0m\u001b[1;33m=\u001b[0m\u001b[1;33m+\u001b[0m\u001b[1;36m1\u001b[0m\u001b[1;33m\u001b[0m\u001b[1;33m\u001b[0m\u001b[0m\n\u001b[0;32m     23\u001b[0m            \u001b[0mloss_CMMD\u001b[0m \u001b[1;33m=\u001b[0m \u001b[0mCMMD_loss\u001b[0m\u001b[1;33m(\u001b[0m\u001b[0ms\u001b[0m\u001b[1;33m,\u001b[0m \u001b[0ms_hat\u001b[0m\u001b[1;33m,\u001b[0m \u001b[0mparams\u001b[0m\u001b[1;33m,\u001b[0m \u001b[0mparams\u001b[0m\u001b[1;33m)\u001b[0m\u001b[1;33m\u001b[0m\u001b[1;33m\u001b[0m\u001b[0m\n",
      "\u001b[1;32m~\\Anaconda3\\lib\\site-packages\\torch\\nn\\modules\\module.py\u001b[0m in \u001b[0;36m_call_impl\u001b[1;34m(self, *input, **kwargs)\u001b[0m\n\u001b[0;32m   1049\u001b[0m         if not (self._backward_hooks or self._forward_hooks or self._forward_pre_hooks or _global_backward_hooks\n\u001b[0;32m   1050\u001b[0m                 or _global_forward_hooks or _global_forward_pre_hooks):\n\u001b[1;32m-> 1051\u001b[1;33m             \u001b[1;32mreturn\u001b[0m \u001b[0mforward_call\u001b[0m\u001b[1;33m(\u001b[0m\u001b[1;33m*\u001b[0m\u001b[0minput\u001b[0m\u001b[1;33m,\u001b[0m \u001b[1;33m**\u001b[0m\u001b[0mkwargs\u001b[0m\u001b[1;33m)\u001b[0m\u001b[1;33m\u001b[0m\u001b[1;33m\u001b[0m\u001b[0m\n\u001b[0m\u001b[0;32m   1052\u001b[0m         \u001b[1;31m# Do not call functions when jit is used\u001b[0m\u001b[1;33m\u001b[0m\u001b[1;33m\u001b[0m\u001b[0m\n\u001b[0;32m   1053\u001b[0m         \u001b[0mfull_backward_hooks\u001b[0m\u001b[1;33m,\u001b[0m \u001b[0mnon_full_backward_hooks\u001b[0m \u001b[1;33m=\u001b[0m \u001b[1;33m[\u001b[0m\u001b[1;33m]\u001b[0m\u001b[1;33m,\u001b[0m \u001b[1;33m[\u001b[0m\u001b[1;33m]\u001b[0m\u001b[1;33m\u001b[0m\u001b[1;33m\u001b[0m\u001b[0m\n",
      "\u001b[1;32m~\\AppData\\Local\\Temp/ipykernel_6032/1163322763.py\u001b[0m in \u001b[0;36mforward\u001b[1;34m(self, batch_size, params, n)\u001b[0m\n\u001b[0;32m     20\u001b[0m         \u001b[0mzp\u001b[0m \u001b[1;33m=\u001b[0m \u001b[0mparams\u001b[0m\u001b[1;33m\u001b[0m\u001b[1;33m\u001b[0m\u001b[0m\n\u001b[0;32m     21\u001b[0m         \u001b[1;31m#zp = zp2_loc + zp2_scale *torch.normal(0, 1, zp2_loc.shape, device=\"cuda\")\u001b[0m\u001b[1;33m\u001b[0m\u001b[1;33m\u001b[0m\u001b[0m\n\u001b[1;32m---> 22\u001b[1;33m         \u001b[0ms_dash\u001b[0m \u001b[1;33m=\u001b[0m \u001b[0mtorch\u001b[0m\u001b[1;33m.\u001b[0m\u001b[0mzeros\u001b[0m\u001b[1;33m(\u001b[0m\u001b[0mbatch_size\u001b[0m\u001b[1;33m,\u001b[0m\u001b[0mn\u001b[0m\u001b[1;33m,\u001b[0m\u001b[0mdtype\u001b[0m \u001b[1;33m=\u001b[0m \u001b[0mfloat\u001b[0m\u001b[1;33m)\u001b[0m\u001b[1;33m.\u001b[0m\u001b[0mto\u001b[0m\u001b[1;33m(\u001b[0m\u001b[0mdevice\u001b[0m\u001b[1;33m)\u001b[0m\u001b[1;33m\u001b[0m\u001b[1;33m\u001b[0m\u001b[0m\n\u001b[0m\u001b[0;32m     23\u001b[0m         \u001b[0ms_dash\u001b[0m\u001b[1;33m[\u001b[0m\u001b[1;33m:\u001b[0m\u001b[1;33m,\u001b[0m\u001b[1;36m0\u001b[0m\u001b[1;33m]\u001b[0m \u001b[1;33m=\u001b[0m \u001b[0mtorch\u001b[0m\u001b[1;33m.\u001b[0m\u001b[0mones\u001b[0m\u001b[1;33m(\u001b[0m\u001b[0mbatch_size\u001b[0m\u001b[1;33m,\u001b[0m\u001b[0mdtype\u001b[0m \u001b[1;33m=\u001b[0m \u001b[0mfloat\u001b[0m\u001b[1;33m)\u001b[0m\u001b[1;33m.\u001b[0m\u001b[0mto\u001b[0m\u001b[1;33m(\u001b[0m\u001b[0mdevice\u001b[0m\u001b[1;33m)\u001b[0m\u001b[1;33m\u001b[0m\u001b[1;33m\u001b[0m\u001b[0m\n\u001b[0;32m     24\u001b[0m         \u001b[1;31m#s_dot_dash =  torch.zeros(zA1_loc.shape[0],100).to(device)\u001b[0m\u001b[1;33m\u001b[0m\u001b[1;33m\u001b[0m\u001b[0m\n",
      "\u001b[1;31mKeyboardInterrupt\u001b[0m: "
     ]
    }
   ],
   "source": [
    "# No of epochs for training\n",
    "epochs = 750\n",
    "\n",
    "# lambda1 and beta1 are the parameters in the kernel function used to define the CMMD loss funct\n",
    "lambda1 = torch.tensor(-0.5, requires_grad = True).to(device)\n",
    "beta1 = torch.tensor(4.0, requires_grad = True).to(device)\n",
    "\n",
    "#Included in the training process\n",
    "lambda1 = torch.nn.Parameter(lambda1)\n",
    "beta1 = torch.nn.Parameter(beta1)\n",
    "model_dpc = DNN().to(device)\n",
    "model_dpc.register_parameter('lanbda11',lambda1)\n",
    "model_dpc.register_parameter('beta1',beta1)\n",
    "\n",
    "#Training\n",
    "model_dpc,train_loss_epochs,opt= train_CMMD(model_dpc.double(),epochs)\n",
    "\n",
    "#plotting training loss vs number of epochs at the end of the training\n",
    "epochs_array = np.linspace(0,epochs,epochs)\n",
    "train_loss_epochs= train_loss_epochs.cpu()\n",
    "train_loss_epochs= train_loss_epochs.detach().numpy()\n",
    "fig1=plt.figure(1)\n",
    "plt.plot(epochs_array ,train_loss_epochs, label=\"training_loss\")\n",
    "plt.xlabel(\"Epochs\")\n",
    "plt.ylabel(\"Training loss\")\n",
    "\n",
    "#mae=test(model_dpc.double(), data.double("
   ]
  },
  {
   "cell_type": "code",
   "execution_count": null,
   "id": "9fdc27be",
   "metadata": {},
   "outputs": [],
   "source": [
    "torch.save(autoencoder.state_dict(), 'PIDecoder_sde2_2k_Pdrift')"
   ]
  },
  {
   "cell_type": "markdown",
   "id": "a3ea1eb1",
   "metadata": {},
   "source": []
  },
  {
   "cell_type": "code",
   "execution_count": 20,
   "id": "05de8c93",
   "metadata": {},
   "outputs": [
    {
     "name": "stdout",
     "output_type": "stream",
     "text": [
      "(1500, 1000)\n",
      "(1500, 2)\n"
     ]
    },
    {
     "data": {
      "image/png": "[encoded data removed]",
      "text/plain": [
       "<Figure size 432x288 with 1 Axes>"
      ]
     },
     "metadata": {
      "needs_background": "light"
     },
     "output_type": "display_data"
    }
   ],
   "source": [
    "with torch.no_grad():  \n",
    "    device = torch.device(\"cuda\")\n",
    "    lambda1 = torch.tensor(-0.5, requires_grad = True).to(device)\n",
    "    beta1 = torch.tensor(4.0, requires_grad = True).to(device)\n",
    "    lambda1 = torch.nn.Parameter(lambda1)\n",
    "    beta1 = torch.nn.Parameter(beta1)\n",
    "    model_dpc = DNN().to(device)\n",
    "    model_dpc.register_parameter('lanbda11',lambda1)\n",
    "    model_dpc.register_parameter('beta1',beta1)\n",
    "    model_dpc.load_state_dict(torch.load('PIDecoder_sde2_2k_Pdrift'))\n",
    "    model_dpc.to(device)\n",
    "    model = Datadriven().to(device)\n",
    "    model.register_parameter('lanbda11',lambda1)\n",
    "    model.register_parameter('beta1',beta1) \n",
    "    model.load_state_dict(torch.load('PIDecoder_sde2_2k_Pdiffusion_data'))\n",
    "    \n",
    "    nt =1000\n",
    "    mae,prm, X_hat, X_hat_data, X_hat_physics, X=test1(model_dpc.double(), model.double(), n=nt) \n",
    "    prm = prm.cpu()\n",
    "    prm = prm.detach().numpy()\n",
    "   \n",
    "    from scipy.stats import gaussian_kde\n",
    "    density = gaussian_kde(X[:,30])\n",
    "    density_1 = gaussian_kde(X_hat[:,30] )\n",
    "    density_2 = gaussian_kde( X_hat_data[:,30])\n",
    "    density_3 = gaussian_kde(X_hat_physics[:,30])\n",
    "    \n",
    "    density_p = gaussian_kde(X[:,200])\n",
    "    density_p_1 = gaussian_kde(X_hat[:,200] )\n",
    "    density_p_2 = gaussian_kde( X_hat_data[:,200])\n",
    "    density_p_3 = gaussian_kde(X_hat_physics[:,200])\n",
    "    \n",
    "  \n",
    "    xs = np.linspace(-2,3,100)\n",
    "    ys = np.linspace(-2,2,20)\n",
    "    zs = np.linspace(-2,3,350)\n",
    "    p = np.linspace(-1,3,600)\n",
    "    \n",
    "    plt.figure(1) \n",
    "    plt.plot(p,density(p),\"*\",color =\"k\", label = \"Ground Truth\")\n",
    "    plt.plot(p,density_1(p),\"r\", label = \"Proposed approach\")\n",
    "    plt.plot(ys,density_2(ys),\"-^\",color =\"m\",label = \"Data only\")\n",
    "    plt.plot(xs,density_3(xs),\"-v\",label = \"Incomplete physics only\")\n",
    "    plt.ylabel('Probability density function')\n",
    "    plt.xlabel('QoI')\n",
    "    plt.legend()\n",
    "    plt.savefig('multi_PI_SDE2_PDrift1.pdf')\n",
    "    \n",
    "   "
   ]
  },
  {
   "cell_type": "code",
   "execution_count": 21,
   "id": "a93fd157",
   "metadata": {},
   "outputs": [
    {
     "data": {
      "text/plain": [
       "<Figure size 432x288 with 0 Axes>"
      ]
     },
     "metadata": {},
     "output_type": "display_data"
    },
    {
     "data": {
      "image/png": "[encoded data removed]",
      "text/plain": [
       "<Figure size 432x288 with 1 Axes>"
      ]
     },
     "metadata": {
      "needs_background": "light"
     },
     "output_type": "display_data"
    }
   ],
   "source": [
    "    plt.figure(2)\n",
    "    fig2, ax2 = plt.subplots()\n",
    "    ax2.plot(zs,density_p(zs),\"*\",color =\"k\", label = \"Ground Truth\")\n",
    "    ax2.plot(xs,density_p_1(xs),\"g\", label = \"Proposed approach\")\n",
    "    ax2.plot(ys,density_p_2(ys),\"-^\",color =\"m\",label = \"Data only\")\n",
    "    ax2.plot(xs,density_p_3(xs),\"-v\",label = \"Incomplete physics only\")\n",
    "    ax2.set_ylabel('Probability density function')\n",
    "    ax2.set_xlabel('QoI')\n",
    "    ax2_in = ax2.inset_axes([.1, .4, 0.28, 0.28]) \n",
    "    ax2.legend()\n",
    "    x = np.linspace(-15,20,20)\n",
    "    density_p_33 = gaussian_kde(X_hat_physics[:,200])\n",
    "    ax2_in.plot(x,density_p_33(x),\"-v\")\n",
    "    plt.savefig('multi_PI_SDE2_PDrift_pred1.pdf')"
   ]
  },
  {
   "cell_type": "markdown",
   "id": "54e163f7",
   "metadata": {},
   "source": [
    "Hellinger distance"
   ]
  },
  {
   "cell_type": "code",
   "execution_count": 22,
   "id": "53290b56",
   "metadata": {},
   "outputs": [],
   "source": [
    "def Hellinger(pdf1,pdf2):\n",
    "    output =np.sum(np.power(np.sqrt(pdf1)-np.sqrt(pdf2),2))\n",
    "    return output"
   ]
  },
  {
   "cell_type": "code",
   "execution_count": 23,
   "id": "18c099d8",
   "metadata": {},
   "outputs": [
    {
     "name": "stdout",
     "output_type": "stream",
     "text": [
      "(1500, 1000)\n",
      "(1500, 2)\n",
      "0.6164433519626984\n",
      "76.03044388191061\n",
      "57.95138507551399\n"
     ]
    }
   ],
   "source": [
    "from scipy.stats import gaussian_kde\n",
    "with torch.no_grad():  \n",
    "    device = torch.device(\"cuda\")\n",
    "    lambda1 = torch.tensor(-0.5, requires_grad = True).to(device)\n",
    "    beta1 = torch.tensor(4.0, requires_grad = True).to(device)\n",
    "    lambda1 = torch.nn.Parameter(lambda1)\n",
    "    beta1 = torch.nn.Parameter(beta1)\n",
    "    model_dpc = DNN().to(device)\n",
    "    model_dpc.register_parameter('lanbda11',lambda1)\n",
    "    model_dpc.register_parameter('beta1',beta1)\n",
    "    model_dpc.load_state_dict(torch.load('PIDecoder_sde2_2k_Pdrift'))\n",
    "    model_dpc.to(device)\n",
    "    model = Datadriven().to(device)\n",
    "    model.register_parameter('lanbda11',lambda1)\n",
    "    model.register_parameter('beta1',beta1) \n",
    "    model.load_state_dict(torch.load('PIDecoder_sde2_2k_Pdiffusion_data'))\n",
    "    \n",
    "    nt =1000\n",
    "    x = np.linspace(-2,3,350)\n",
    "    y = np.linspace(-2,3,350)\n",
    "    z = np.linspace(-2,3,350)\n",
    "    p = np.linspace(-2,3,350)\n",
    "    er_dpc=np.zeros([nt])\n",
    "    er_pd=np.zeros([nt])\n",
    "    er_pp=np.zeros([nt])\n",
    "    mae,prm, X_hat, X_hat_data, X_hat_physics, X=test1(model_dpc.double(), model.double(), n=nt)\n",
    "    for i in range(1,nt):\n",
    "        density = gaussian_kde(X[:,i])\n",
    "        density_DPC = gaussian_kde(X_hat[:,i])\n",
    "        density_PD = gaussian_kde(X_hat_data[:,i])\n",
    "        density_PP = gaussian_kde(X_hat_physics[:,i])\n",
    "        er_dpc[i] = Hellinger(density(x),density_DPC(y))\n",
    "        er_pd[i] = Hellinger(density(x),density_PD(z))\n",
    "        er_pp[i] = Hellinger(density(x),density_PP(p))\n",
    "    \n",
    "    er_dpc_mean = np.mean(er_dpc)\n",
    "    er_pd_mean = np.mean(er_pd)\n",
    "    er_pp_mean = np.mean(er_pp)\n",
    "    print(er_dpc_mean)\n",
    "    print(er_pd_mean)\n",
    "    print(er_pp_mean)"
   ]
  },
  {
   "cell_type": "code",
   "execution_count": 24,
   "id": "8f346243",
   "metadata": {},
   "outputs": [
    {
     "name": "stdout",
     "output_type": "stream",
     "text": [
      "(1500, 1000)\n",
      "(1500, 2)\n",
      "dpc [0.58836618 0.         0.         0.         0.        ]\n",
      "pd [74.78807888  0.          0.          0.          0.        ]\n",
      "pp [60.5099812  0.         0.         0.         0.       ]\n",
      "(1500, 1000)\n",
      "(1500, 2)\n",
      "dpc [0.58836618 0.63187855 0.         0.         0.        ]\n",
      "pd [74.78807888 76.14398818  0.          0.          0.        ]\n",
      "pp [60.5099812  56.15837692  0.          0.          0.        ]\n",
      "(1500, 1000)\n",
      "(1500, 2)\n",
      "dpc [0.58836618 0.63187855 0.47468373 0.         0.        ]\n",
      "pd [74.78807888 76.14398818 76.19783348  0.          0.        ]\n",
      "pp [60.5099812  56.15837692 57.62500307  0.          0.        ]\n",
      "(1500, 1000)\n",
      "(1500, 2)\n"
     ]
    },
    {
     "ename": "KeyboardInterrupt",
     "evalue": "",
     "output_type": "error",
     "traceback": [
      "\u001b[1;31m---------------------------------------------------------------------------\u001b[0m",
      "\u001b[1;31mKeyboardInterrupt\u001b[0m                         Traceback (most recent call last)",
      "\u001b[1;32m~\\AppData\\Local\\Temp/ipykernel_14872/1382850516.py\u001b[0m in \u001b[0;36m<module>\u001b[1;34m\u001b[0m\n\u001b[0;32m     30\u001b[0m         \u001b[0mmae\u001b[0m\u001b[1;33m,\u001b[0m\u001b[0mprm\u001b[0m\u001b[1;33m,\u001b[0m \u001b[0mX_hat\u001b[0m\u001b[1;33m,\u001b[0m \u001b[0mX_hat_data\u001b[0m\u001b[1;33m,\u001b[0m \u001b[0mX_hat_physics\u001b[0m\u001b[1;33m,\u001b[0m \u001b[0mX\u001b[0m\u001b[1;33m=\u001b[0m\u001b[0mtest1\u001b[0m\u001b[1;33m(\u001b[0m\u001b[0mmodel_dpc\u001b[0m\u001b[1;33m.\u001b[0m\u001b[0mdouble\u001b[0m\u001b[1;33m(\u001b[0m\u001b[1;33m)\u001b[0m\u001b[1;33m,\u001b[0m \u001b[0mmodel\u001b[0m\u001b[1;33m.\u001b[0m\u001b[0mdouble\u001b[0m\u001b[1;33m(\u001b[0m\u001b[1;33m)\u001b[0m\u001b[1;33m,\u001b[0m \u001b[0mn\u001b[0m\u001b[1;33m=\u001b[0m\u001b[0mnt\u001b[0m\u001b[1;33m)\u001b[0m\u001b[1;33m\u001b[0m\u001b[1;33m\u001b[0m\u001b[0m\n\u001b[0;32m     31\u001b[0m         \u001b[1;32mfor\u001b[0m \u001b[0mi\u001b[0m \u001b[1;32min\u001b[0m \u001b[0mrange\u001b[0m\u001b[1;33m(\u001b[0m\u001b[1;36m1\u001b[0m\u001b[1;33m,\u001b[0m\u001b[0mnt\u001b[0m\u001b[1;33m)\u001b[0m\u001b[1;33m:\u001b[0m\u001b[1;33m\u001b[0m\u001b[1;33m\u001b[0m\u001b[0m\n\u001b[1;32m---> 32\u001b[1;33m             \u001b[0mdensity\u001b[0m \u001b[1;33m=\u001b[0m \u001b[0mgaussian_kde\u001b[0m\u001b[1;33m(\u001b[0m\u001b[0mX\u001b[0m\u001b[1;33m[\u001b[0m\u001b[1;33m:\u001b[0m\u001b[1;33m,\u001b[0m\u001b[0mi\u001b[0m\u001b[1;33m]\u001b[0m\u001b[1;33m)\u001b[0m\u001b[1;33m\u001b[0m\u001b[1;33m\u001b[0m\u001b[0m\n\u001b[0m\u001b[0;32m     33\u001b[0m             \u001b[0mdensity_DPC\u001b[0m \u001b[1;33m=\u001b[0m \u001b[0mgaussian_kde\u001b[0m\u001b[1;33m(\u001b[0m\u001b[0mX_hat\u001b[0m\u001b[1;33m[\u001b[0m\u001b[1;33m:\u001b[0m\u001b[1;33m,\u001b[0m\u001b[0mi\u001b[0m\u001b[1;33m]\u001b[0m\u001b[1;33m)\u001b[0m\u001b[1;33m\u001b[0m\u001b[1;33m\u001b[0m\u001b[0m\n\u001b[0;32m     34\u001b[0m             \u001b[0mdensity_PD\u001b[0m \u001b[1;33m=\u001b[0m \u001b[0mgaussian_kde\u001b[0m\u001b[1;33m(\u001b[0m\u001b[0mX_hat_data\u001b[0m\u001b[1;33m[\u001b[0m\u001b[1;33m:\u001b[0m\u001b[1;33m,\u001b[0m\u001b[0mi\u001b[0m\u001b[1;33m]\u001b[0m\u001b[1;33m)\u001b[0m\u001b[1;33m\u001b[0m\u001b[1;33m\u001b[0m\u001b[0m\n",
      "\u001b[1;32m~\\Anaconda3\\lib\\site-packages\\scipy\\stats\\kde.py\u001b[0m in \u001b[0;36m__init__\u001b[1;34m(self, dataset, bw_method, weights)\u001b[0m\n\u001b[0;32m    204\u001b[0m             \u001b[0mself\u001b[0m\u001b[1;33m.\u001b[0m\u001b[0m_neff\u001b[0m \u001b[1;33m=\u001b[0m \u001b[1;36m1\u001b[0m\u001b[1;33m/\u001b[0m\u001b[0msum\u001b[0m\u001b[1;33m(\u001b[0m\u001b[0mself\u001b[0m\u001b[1;33m.\u001b[0m\u001b[0m_weights\u001b[0m\u001b[1;33m**\u001b[0m\u001b[1;36m2\u001b[0m\u001b[1;33m)\u001b[0m\u001b[1;33m\u001b[0m\u001b[1;33m\u001b[0m\u001b[0m\n\u001b[0;32m    205\u001b[0m \u001b[1;33m\u001b[0m\u001b[0m\n\u001b[1;32m--> 206\u001b[1;33m         \u001b[0mself\u001b[0m\u001b[1;33m.\u001b[0m\u001b[0mset_bandwidth\u001b[0m\u001b[1;33m(\u001b[0m\u001b[0mbw_method\u001b[0m\u001b[1;33m=\u001b[0m\u001b[0mbw_method\u001b[0m\u001b[1;33m)\u001b[0m\u001b[1;33m\u001b[0m\u001b[1;33m\u001b[0m\u001b[0m\n\u001b[0m\u001b[0;32m    207\u001b[0m \u001b[1;33m\u001b[0m\u001b[0m\n\u001b[0;32m    208\u001b[0m     \u001b[1;32mdef\u001b[0m \u001b[0mevaluate\u001b[0m\u001b[1;33m(\u001b[0m\u001b[0mself\u001b[0m\u001b[1;33m,\u001b[0m \u001b[0mpoints\u001b[0m\u001b[1;33m)\u001b[0m\u001b[1;33m:\u001b[0m\u001b[1;33m\u001b[0m\u001b[1;33m\u001b[0m\u001b[0m\n",
      "\u001b[1;32m~\\Anaconda3\\lib\\site-packages\\scipy\\stats\\kde.py\u001b[0m in \u001b[0;36mset_bandwidth\u001b[1;34m(self, bw_method)\u001b[0m\n\u001b[0;32m    552\u001b[0m             \u001b[1;32mraise\u001b[0m \u001b[0mValueError\u001b[0m\u001b[1;33m(\u001b[0m\u001b[0mmsg\u001b[0m\u001b[1;33m)\u001b[0m\u001b[1;33m\u001b[0m\u001b[1;33m\u001b[0m\u001b[0m\n\u001b[0;32m    553\u001b[0m \u001b[1;33m\u001b[0m\u001b[0m\n\u001b[1;32m--> 554\u001b[1;33m         \u001b[0mself\u001b[0m\u001b[1;33m.\u001b[0m\u001b[0m_compute_covariance\u001b[0m\u001b[1;33m(\u001b[0m\u001b[1;33m)\u001b[0m\u001b[1;33m\u001b[0m\u001b[1;33m\u001b[0m\u001b[0m\n\u001b[0m\u001b[0;32m    555\u001b[0m \u001b[1;33m\u001b[0m\u001b[0m\n\u001b[0;32m    556\u001b[0m     \u001b[1;32mdef\u001b[0m \u001b[0m_compute_covariance\u001b[0m\u001b[1;33m(\u001b[0m\u001b[0mself\u001b[0m\u001b[1;33m)\u001b[0m\u001b[1;33m:\u001b[0m\u001b[1;33m\u001b[0m\u001b[1;33m\u001b[0m\u001b[0m\n",
      "\u001b[1;32m~\\Anaconda3\\lib\\site-packages\\scipy\\stats\\kde.py\u001b[0m in \u001b[0;36m_compute_covariance\u001b[1;34m(self)\u001b[0m\n\u001b[0;32m    561\u001b[0m         \u001b[1;31m# Cache covariance and inverse covariance of the data\u001b[0m\u001b[1;33m\u001b[0m\u001b[1;33m\u001b[0m\u001b[0m\n\u001b[0;32m    562\u001b[0m         \u001b[1;32mif\u001b[0m \u001b[1;32mnot\u001b[0m \u001b[0mhasattr\u001b[0m\u001b[1;33m(\u001b[0m\u001b[0mself\u001b[0m\u001b[1;33m,\u001b[0m \u001b[1;34m'_data_inv_cov'\u001b[0m\u001b[1;33m)\u001b[0m\u001b[1;33m:\u001b[0m\u001b[1;33m\u001b[0m\u001b[1;33m\u001b[0m\u001b[0m\n\u001b[1;32m--> 563\u001b[1;33m             self._data_covariance = atleast_2d(cov(self.dataset, rowvar=1,\n\u001b[0m\u001b[0;32m    564\u001b[0m                                                \u001b[0mbias\u001b[0m\u001b[1;33m=\u001b[0m\u001b[1;32mFalse\u001b[0m\u001b[1;33m,\u001b[0m\u001b[1;33m\u001b[0m\u001b[1;33m\u001b[0m\u001b[0m\n\u001b[0;32m    565\u001b[0m                                                aweights=self.weights))\n",
      "\u001b[1;32m<__array_function__ internals>\u001b[0m in \u001b[0;36mcov\u001b[1;34m(*args, **kwargs)\u001b[0m\n",
      "\u001b[1;32m~\\Anaconda3\\lib\\site-packages\\numpy\\lib\\function_base.py\u001b[0m in \u001b[0;36mcov\u001b[1;34m(m, y, rowvar, bias, ddof, fweights, aweights, dtype)\u001b[0m\n\u001b[0;32m   2478\u001b[0m         \u001b[0mfact\u001b[0m \u001b[1;33m=\u001b[0m \u001b[0mw_sum\u001b[0m \u001b[1;33m-\u001b[0m \u001b[0mddof\u001b[0m\u001b[1;33m\u001b[0m\u001b[1;33m\u001b[0m\u001b[0m\n\u001b[0;32m   2479\u001b[0m     \u001b[1;32melse\u001b[0m\u001b[1;33m:\u001b[0m\u001b[1;33m\u001b[0m\u001b[1;33m\u001b[0m\u001b[0m\n\u001b[1;32m-> 2480\u001b[1;33m         \u001b[0mfact\u001b[0m \u001b[1;33m=\u001b[0m \u001b[0mw_sum\u001b[0m \u001b[1;33m-\u001b[0m \u001b[0mddof\u001b[0m\u001b[1;33m*\u001b[0m\u001b[0msum\u001b[0m\u001b[1;33m(\u001b[0m\u001b[0mw\u001b[0m\u001b[1;33m*\u001b[0m\u001b[0maweights\u001b[0m\u001b[1;33m)\u001b[0m\u001b[1;33m/\u001b[0m\u001b[0mw_sum\u001b[0m\u001b[1;33m\u001b[0m\u001b[1;33m\u001b[0m\u001b[0m\n\u001b[0m\u001b[0;32m   2481\u001b[0m \u001b[1;33m\u001b[0m\u001b[0m\n\u001b[0;32m   2482\u001b[0m     \u001b[1;32mif\u001b[0m \u001b[0mfact\u001b[0m \u001b[1;33m<=\u001b[0m \u001b[1;36m0\u001b[0m\u001b[1;33m:\u001b[0m\u001b[1;33m\u001b[0m\u001b[1;33m\u001b[0m\u001b[0m\n",
      "\u001b[1;31mKeyboardInterrupt\u001b[0m: "
     ]
    }
   ],
   "source": [
    "er_dpc_mean = np.zeros(5)\n",
    "er_pd_mean = np.zeros(5)\n",
    "er_pp_mean= np.zeros(5)\n",
    "for k in range(5):\n",
    "    from scipy.stats import gaussian_kde\n",
    "    with torch.no_grad():  \n",
    "        device = torch.device(\"cuda\")\n",
    "        lambda1 = torch.tensor(-0.5, requires_grad = True).to(device)\n",
    "        beta1 = torch.tensor(4.0, requires_grad = True).to(device)\n",
    "        lambda1 = torch.nn.Parameter(lambda1)\n",
    "        beta1 = torch.nn.Parameter(beta1)\n",
    "        model_dpc = DNN().to(device)\n",
    "        model_dpc.register_parameter('lanbda11',lambda1)\n",
    "        model_dpc.register_parameter('beta1',beta1)\n",
    "        model_dpc.load_state_dict(torch.load('PIDecoder_sde2_2k_Pdrift'))\n",
    "        model_dpc.to(device)\n",
    "        model = Datadriven().to(device)\n",
    "        model.register_parameter('lanbda11',lambda1)\n",
    "        model.register_parameter('beta1',beta1) \n",
    "        model.load_state_dict(torch.load('PIDecoder_sde2_2k_Pdiffusion_data'))\n",
    "\n",
    "        nt =1000\n",
    "        x = np.linspace(-2,3,350)\n",
    "        y = np.linspace(-2,3,350)\n",
    "        z = np.linspace(-2,3,350)\n",
    "        p = np.linspace(-2,3,350)\n",
    "        er_dpc=np.zeros([nt])\n",
    "        er_pd=np.zeros([nt])\n",
    "        er_pp=np.zeros([nt])\n",
    "        mae,prm, X_hat, X_hat_data, X_hat_physics, X=test1(model_dpc.double(), model.double(), n=nt)\n",
    "        for i in range(1,nt):\n",
    "            density = gaussian_kde(X[:,i])\n",
    "            density_DPC = gaussian_kde(X_hat[:,i])\n",
    "            density_PD = gaussian_kde(X_hat_data[:,i])\n",
    "            density_PP = gaussian_kde(X_hat_physics[:,i])\n",
    "            er_dpc[i] = Hellinger(density(x),density_DPC(y))\n",
    "            er_pd[i] = Hellinger(density(x),density_PD(z))\n",
    "            er_pp[i] = Hellinger(density(x),density_PP(p))\n",
    "\n",
    "        er_dpc_mean[k] = np.mean(er_dpc)\n",
    "        er_pd_mean[k] = np.mean(er_pd)\n",
    "        er_pp_mean[k] = np.mean(er_pp)\n",
    "        print(\"dpc\",er_dpc_mean)\n",
    "        print(\"pd\",er_pd_mean)\n",
    "        print(\"pp\",er_pp_mean)\n",
    "Error_dpc =  np.mean(er_dpc_mean)\n",
    "Error_pd =  np.mean(er_pd_mean)\n",
    "Error_pp =  np.mean(er_pp_mean)\n",
    "\n",
    "print(\"Error_dpc\",Error_dpc)\n",
    "print(\"Error_dpc\",Error_pd)\n",
    "print(\"Error_dpc\",Error_pp)"
   ]
  }
 ],
 "metadata": {
  "kernelspec": {
   "display_name": "Python 3 (ipykernel)",
   "language": "python",
   "name": "python3"
  },
  "language_info": {
   "codemirror_mode": {
    "name": "ipython",
    "version": 3
   },
   "file_extension": ".py",
   "mimetype": "text/x-python",
   "name": "python",
   "nbconvert_exporter": "python",
   "pygments_lexer": "ipython3",
   "version": "3.9.7"
  }
 },
 "nbformat": 4,
 "nbformat_minor": 5
}
